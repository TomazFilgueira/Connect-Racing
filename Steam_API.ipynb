{
  "nbformat": 4,
  "nbformat_minor": 0,
  "metadata": {
    "colab": {
      "provenance": [],
      "authorship_tag": "ABX9TyP6KzEs8aJ5Y4xzV7O2c76N",
      "include_colab_link": true
    },
    "kernelspec": {
      "name": "python3",
      "display_name": "Python 3"
    },
    "language_info": {
      "name": "python"
    }
  },
  "cells": [
    {
      "cell_type": "markdown",
      "metadata": {
        "id": "view-in-github",
        "colab_type": "text"
      },
      "source": [
        "<a href=\"https://colab.research.google.com/github/TomazFilgueira/Connect-Racing/blob/main/Steam_API.ipynb\" target=\"_parent\"><img src=\"https://colab.research.google.com/assets/colab-badge.svg\" alt=\"Open In Colab\"/></a>"
      ]
    },
    {
      "cell_type": "markdown",
      "source": [
        "# Steam API\n",
        "\n",
        "https://pypi.org/project/python-steam-api/"
      ],
      "metadata": {
        "id": "JWLPCXzyzRz3"
      }
    },
    {
      "cell_type": "code",
      "execution_count": 1,
      "metadata": {
        "colab": {
          "base_uri": "https://localhost:8080/"
        },
        "id": "Of6mENUWyhEQ",
        "outputId": "4617fc94-55e8-4918-9369-3b2df61603ea"
      },
      "outputs": [
        {
          "output_type": "stream",
          "name": "stdout",
          "text": [
            "Collecting python-steam-api\n",
            "  Downloading python_steam_api-2.1.1-py3-none-any.whl.metadata (30 kB)\n",
            "Requirement already satisfied: beautifulsoup4 in /usr/local/lib/python3.11/dist-packages (from python-steam-api) (4.13.4)\n",
            "Requirement already satisfied: requests in /usr/local/lib/python3.11/dist-packages (from python-steam-api) (2.32.3)\n",
            "Requirement already satisfied: soupsieve>1.2 in /usr/local/lib/python3.11/dist-packages (from beautifulsoup4->python-steam-api) (2.7)\n",
            "Requirement already satisfied: typing-extensions>=4.0.0 in /usr/local/lib/python3.11/dist-packages (from beautifulsoup4->python-steam-api) (4.13.2)\n",
            "Requirement already satisfied: charset-normalizer<4,>=2 in /usr/local/lib/python3.11/dist-packages (from requests->python-steam-api) (3.4.2)\n",
            "Requirement already satisfied: idna<4,>=2.5 in /usr/local/lib/python3.11/dist-packages (from requests->python-steam-api) (3.10)\n",
            "Requirement already satisfied: urllib3<3,>=1.21.1 in /usr/local/lib/python3.11/dist-packages (from requests->python-steam-api) (2.4.0)\n",
            "Requirement already satisfied: certifi>=2017.4.17 in /usr/local/lib/python3.11/dist-packages (from requests->python-steam-api) (2025.4.26)\n",
            "Downloading python_steam_api-2.1.1-py3-none-any.whl (18 kB)\n",
            "Installing collected packages: python-steam-api\n",
            "Successfully installed python-steam-api-2.1.1\n"
          ]
        }
      ],
      "source": [
        "!pip install python-steam-api"
      ]
    },
    {
      "cell_type": "code",
      "source": [
        "import os\n",
        "from steam_web_api import Steam\n",
        "\n",
        "KEY = os.environ.get(\"477B4837F0F2D846BB73899BDFB13F43\")\n",
        "steam = Steam(KEY)\n",
        "# arguments: search\n",
        "user = steam.apps.search_games(\"Automobilista 2\")\n",
        "user"
      ],
      "metadata": {
        "colab": {
          "base_uri": "https://localhost:8080/"
        },
        "id": "TfYLyUs0yoLf",
        "outputId": "5336f48c-3e5f-4206-b968-96c23eb907ad"
      },
      "execution_count": 6,
      "outputs": [
        {
          "output_type": "execute_result",
          "data": {
            "text/plain": [
              "{'apps': [{'id': [1066890],\n",
              "   'link': 'https://store.steampowered.com/app/1066890/Automobilista_2/?snr=1_7_15__13',\n",
              "   'name': 'Automobilista 2',\n",
              "   'img': 'https://shared.fastly.steamstatic.com/store_item_assets/steam/apps/1066890/capsule_sm_120.jpg?t=1742042973',\n",
              "   'price': '$39.99'},\n",
              "  {'id': [1386931],\n",
              "   'link': 'https://store.steampowered.com/app/1386931/Automobilista_2__Nrburgring_Pack/?snr=1_7_15__13',\n",
              "   'name': 'Automobilista 2 - Nürburgring Pack',\n",
              "   'img': 'https://shared.fastly.steamstatic.com/store_item_assets/steam/apps/1386931/capsule_sm_120.jpg?t=1683014410',\n",
              "   'price': '$9.99'},\n",
              "  {'id': [3022980],\n",
              "   'link': 'https://store.steampowered.com/app/3022980/Automobilista_2__IMSA_Track_Pack/?snr=1_7_15__13',\n",
              "   'name': 'Automobilista 2 - IMSA Track Pack',\n",
              "   'img': 'https://shared.fastly.steamstatic.com/store_item_assets/steam/apps/3022980/capsule_sm_120.jpg?t=1732899462',\n",
              "   'price': '$14.99'},\n",
              "  {'id': [1648060],\n",
              "   'link': 'https://store.steampowered.com/app/1648060/Automobilista_2__Monza_Pack/?snr=1_7_15__13',\n",
              "   'name': 'Automobilista 2 - Monza Pack',\n",
              "   'img': 'https://shared.fastly.steamstatic.com/store_item_assets/steam/apps/1648060/capsule_sm_120.jpg?t=1634141651',\n",
              "   'price': '$9.99'},\n",
              "  {'id': [1386930],\n",
              "   'link': 'https://store.steampowered.com/app/1386930/Automobilista_2__Silverstone_Pack/?snr=1_7_15__13',\n",
              "   'name': 'Automobilista 2 - Silverstone Pack',\n",
              "   'img': 'https://shared.fastly.steamstatic.com/store_item_assets/steam/apps/1386930/capsule_sm_120.jpg?t=1619102240',\n",
              "   'price': '$9.99'}]}"
            ]
          },
          "metadata": {},
          "execution_count": 6
        }
      ]
    }
  ]
}